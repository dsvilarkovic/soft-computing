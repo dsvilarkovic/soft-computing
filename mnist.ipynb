{
 "cells": [
  {
   "cell_type": "code",
   "execution_count": 3,
   "metadata": {},
   "outputs": [],
   "source": [
    "import keras\n",
    "from keras.datasets import mnist\n",
    "from keras import backend as K\n",
    "\n",
    "from keras.models import Sequential\n",
    "from keras.layers import Conv2D\n",
    "from keras.layers import MaxPooling2D\n",
    "from keras.layers import Flatten\n",
    "from keras.layers import Dense\n",
    "from keras.layers import Dropout\n",
    "from keras.optimizers import RMSprop\n",
    "from keras.preprocessing.image import ImageDataGenerator\n",
    "from keras.callbacks import ReduceLROnPlateau"
   ]
  },
  {
   "cell_type": "markdown",
   "metadata": {},
   "source": [
    "## Podešavanje osnovnih parametara i ,,sređivanje dataseta-a\" "
   ]
  },
  {
   "cell_type": "code",
   "execution_count": 4,
   "metadata": {},
   "outputs": [
    {
     "name": "stdout",
     "output_type": "stream",
     "text": [
      "x_train shape: (60000, 28, 28, 1)\n"
     ]
    }
   ],
   "source": [
    "num_classes = 10\n",
    "epochs = 15\n",
    "batch_size = 64\n",
    "\n",
    "img_rows, img_cols = 28, 28\n",
    "(x_train, y_train), (x_test, y_test) = mnist.load_data()\n",
    "\n",
    "if K.image_data_format() == 'channels_first':\n",
    "    x_train = x_train.reshape(x_train.shape[0], 1, img_rows, img_cols)\n",
    "    x_test = x_test.reshape(x_test.shape[0], 1, img_rows, img_cols)\n",
    "    input_shape = (1, img_rows, img_cols)\n",
    "else:\n",
    "    x_train = x_train.reshape(x_train.shape[0], img_rows, img_cols, 1)\n",
    "    x_test = x_test.reshape(x_test.shape[0], img_rows, img_cols, 1)\n",
    "    input_shape = (img_rows, img_cols, 1)\n",
    "    \n",
    "x_train = x_train.astype('float32')\n",
    "x_test = x_test.astype('float32')\n",
    "x_train /= 255\n",
    "x_test /= 255\n",
    "print('x_train shape:', x_train.shape)\n",
    "\n",
    "y_train = keras.utils.to_categorical(y_train, num_classes)\n",
    "y_test = keras.utils.to_categorical(y_test, num_classes)"
   ]
  },
  {
   "cell_type": "code",
   "execution_count": 5,
   "metadata": {},
   "outputs": [
    {
     "name": "stdout",
     "output_type": "stream",
     "text": [
      "(28, 28, 1)\n"
     ]
    }
   ],
   "source": [
    "print(x_train[0].shape)"
   ]
  },
  {
   "cell_type": "markdown",
   "metadata": {},
   "source": [
    "## Podešavanje arhitekture konvolucione mreže "
   ]
  },
  {
   "cell_type": "code",
   "execution_count": 6,
   "metadata": {},
   "outputs": [
    {
     "name": "stdout",
     "output_type": "stream",
     "text": [
      "WARNING:tensorflow:From C:\\Users\\IlijaDjuranovic\\Anaconda3\\lib\\site-packages\\tensorflow\\python\\framework\\op_def_library.py:263: colocate_with (from tensorflow.python.framework.ops) is deprecated and will be removed in a future version.\n",
      "Instructions for updating:\n",
      "Colocations handled automatically by placer.\n",
      "WARNING:tensorflow:From C:\\Users\\IlijaDjuranovic\\Anaconda3\\lib\\site-packages\\keras\\backend\\tensorflow_backend.py:3445: calling dropout (from tensorflow.python.ops.nn_ops) with keep_prob is deprecated and will be removed in a future version.\n",
      "Instructions for updating:\n",
      "Please use `rate` instead of `keep_prob`. Rate should be set to `rate = 1 - keep_prob`.\n"
     ]
    }
   ],
   "source": [
    "classifier = Sequential()\n",
    "\n",
    "classifier.add(Conv2D(64, (2, 2), input_shape = (28, 28, 1), activation = 'relu'))\n",
    "classifier.add(MaxPooling2D(pool_size = (2, 2)))\n",
    "\n",
    "classifier.add(Conv2D(64, (2, 2), activation = 'relu'))\n",
    "classifier.add(MaxPooling2D(pool_size = (1, 1)))\n",
    "classifier.add(Dropout(0.2))\n",
    "\n",
    "classifier.add(Flatten())\n",
    "\n",
    "classifier.add(Dense(units = 128, activation = 'relu'))\n",
    "classifier.add(Dropout(0.5))\n",
    "classifier.add(Dense(units = 10, activation = 'softmax'))\n",
    "\n",
    "classifier.compile(optimizer = keras.optimizers.Adadelta(), loss = 'categorical_crossentropy', metrics = ['accuracy'])"
   ]
  },
  {
   "cell_type": "markdown",
   "metadata": {},
   "source": [
    "## Treniranje i rezultati konvolucione mreže "
   ]
  },
  {
   "cell_type": "code",
   "execution_count": 7,
   "metadata": {},
   "outputs": [
    {
     "name": "stdout",
     "output_type": "stream",
     "text": [
      "WARNING:tensorflow:From C:\\Users\\IlijaDjuranovic\\Anaconda3\\lib\\site-packages\\tensorflow\\python\\ops\\math_ops.py:3066: to_int32 (from tensorflow.python.ops.math_ops) is deprecated and will be removed in a future version.\n",
      "Instructions for updating:\n",
      "Use tf.cast instead.\n",
      "Train on 60000 samples, validate on 10000 samples\n",
      "Epoch 1/15\n",
      "60000/60000 [==============================] - 77s 1ms/step - loss: 0.2118 - acc: 0.9352 - val_loss: 0.0591 - val_acc: 0.9805\n",
      "Epoch 2/15\n",
      "60000/60000 [==============================] - 75s 1ms/step - loss: 0.0870 - acc: 0.9742 - val_loss: 0.0463 - val_acc: 0.9841\n",
      "Epoch 3/15\n",
      "60000/60000 [==============================] - 75s 1ms/step - loss: 0.0668 - acc: 0.9803 - val_loss: 0.0388 - val_acc: 0.9868\n",
      "Epoch 4/15\n",
      "60000/60000 [==============================] - 75s 1ms/step - loss: 0.0600 - acc: 0.9817 - val_loss: 0.0391 - val_acc: 0.9865\n",
      "Epoch 5/15\n",
      "60000/60000 [==============================] - 75s 1ms/step - loss: 0.0528 - acc: 0.9843 - val_loss: 0.0375 - val_acc: 0.9879\n",
      "Epoch 6/15\n",
      "60000/60000 [==============================] - 76s 1ms/step - loss: 0.0529 - acc: 0.9842 - val_loss: 0.0355 - val_acc: 0.9875\n",
      "Epoch 7/15\n",
      "60000/60000 [==============================] - 76s 1ms/step - loss: 0.0492 - acc: 0.9852 - val_loss: 0.0364 - val_acc: 0.9886\n",
      "Epoch 8/15\n",
      "60000/60000 [==============================] - 81s 1ms/step - loss: 0.0488 - acc: 0.9861 - val_loss: 0.0363 - val_acc: 0.9881 2s - loss: 0.0485 \n",
      "Epoch 9/15\n",
      "60000/60000 [==============================] - 93s 2ms/step - loss: 0.0470 - acc: 0.9860 - val_loss: 0.0359 - val_acc: 0.9880\n",
      "Epoch 10/15\n",
      "60000/60000 [==============================] - 92s 2ms/step - loss: 0.0444 - acc: 0.9871 - val_loss: 0.0360 - val_acc: 0.9886\n",
      "Epoch 11/15\n",
      "60000/60000 [==============================] - 83s 1ms/step - loss: 0.0444 - acc: 0.9872 - val_loss: 0.0330 - val_acc: 0.9900\n",
      "Epoch 12/15\n",
      "60000/60000 [==============================] - 79s 1ms/step - loss: 0.0436 - acc: 0.9876 - val_loss: 0.0360 - val_acc: 0.9887\n",
      "Epoch 13/15\n",
      "60000/60000 [==============================] - 80s 1ms/step - loss: 0.0430 - acc: 0.9878 - val_loss: 0.0374 - val_acc: 0.9892\n",
      "Epoch 14/15\n",
      "60000/60000 [==============================] - 77s 1ms/step - loss: 0.0392 - acc: 0.9891 - val_loss: 0.0340 - val_acc: 0.9901\n",
      "Epoch 15/15\n",
      "60000/60000 [==============================] - 80s 1ms/step - loss: 0.0397 - acc: 0.9887 - val_loss: 0.0329 - val_acc: 0.9896\n",
      "Test accuracy: 0.9896\n"
     ]
    }
   ],
   "source": [
    "classifier.fit(x_train, y_train, epochs = epochs, verbose = 1, validation_data = (x_test, y_test))\n",
    "score = classifier.evaluate(x_test, y_test, verbose=0)\n",
    "print('Test accuracy:', score[1])"
   ]
  },
  {
   "cell_type": "code",
   "execution_count": 8,
   "metadata": {},
   "outputs": [],
   "source": [
    "classifier.save('model_1.h5')"
   ]
  }
 ],
 "metadata": {
  "kernelspec": {
   "display_name": "Python 3",
   "language": "python",
   "name": "python3"
  },
  "language_info": {
   "codemirror_mode": {
    "name": "ipython",
    "version": 3
   },
   "file_extension": ".py",
   "mimetype": "text/x-python",
   "name": "python",
   "nbconvert_exporter": "python",
   "pygments_lexer": "ipython3",
   "version": "3.6.8"
  }
 },
 "nbformat": 4,
 "nbformat_minor": 2
}
